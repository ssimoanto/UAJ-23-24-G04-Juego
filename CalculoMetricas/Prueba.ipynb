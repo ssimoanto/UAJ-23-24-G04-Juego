{
 "cells": [
  {
   "cell_type": "code",
   "execution_count": 15,
   "id": "c84b1b6b",
   "metadata": {},
   "outputs": [],
   "source": [
    "import pandas as pd"
   ]
  },
  {
   "cell_type": "code",
   "execution_count": 16,
   "id": "bb24c086",
   "metadata": {},
   "outputs": [],
   "source": [
    "jsonFile = pd.read_json(\"./MyFile5.json\")"
   ]
  },
  {
   "cell_type": "code",
   "execution_count": 17,
   "id": "54b8cb17",
   "metadata": {},
   "outputs": [
    {
     "data": {
      "text/html": [
       "<div>\n",
       "<style scoped>\n",
       "    .dataframe tbody tr th:only-of-type {\n",
       "        vertical-align: middle;\n",
       "    }\n",
       "\n",
       "    .dataframe tbody tr th {\n",
       "        vertical-align: top;\n",
       "    }\n",
       "\n",
       "    .dataframe thead th {\n",
       "        text-align: right;\n",
       "    }\n",
       "</style>\n",
       "<table border=\"1\" class=\"dataframe\">\n",
       "  <thead>\n",
       "    <tr style=\"text-align: right;\">\n",
       "      <th></th>\n",
       "      <th>eventId</th>\n",
       "      <th>timestamp</th>\n",
       "      <th>Session</th>\n",
       "      <th>User</th>\n",
       "      <th>Game</th>\n",
       "      <th>EnemyType</th>\n",
       "    </tr>\n",
       "  </thead>\n",
       "  <tbody>\n",
       "    <tr>\n",
       "      <th>0</th>\n",
       "      <td>0</td>\n",
       "      <td>1713770965601</td>\n",
       "      <td>f5d36ac5-567a-420a-8ab9-07640707324a</td>\n",
       "      <td>9cfa91cf-11a7-42ba-89b1-bff2b3a3c1bc</td>\n",
       "      <td>SteamMazehemGame</td>\n",
       "      <td>NaN</td>\n",
       "    </tr>\n",
       "  </tbody>\n",
       "</table>\n",
       "</div>"
      ],
      "text/plain": [
       "   eventId      timestamp                               Session  \\\n",
       "0        0  1713770965601  f5d36ac5-567a-420a-8ab9-07640707324a   \n",
       "\n",
       "                                   User              Game  EnemyType  \n",
       "0  9cfa91cf-11a7-42ba-89b1-bff2b3a3c1bc  SteamMazehemGame        NaN  "
      ]
     },
     "metadata": {},
     "output_type": "display_data"
    },
    {
     "data": {
      "text/html": [
       "<div>\n",
       "<style scoped>\n",
       "    .dataframe tbody tr th:only-of-type {\n",
       "        vertical-align: middle;\n",
       "    }\n",
       "\n",
       "    .dataframe tbody tr th {\n",
       "        vertical-align: top;\n",
       "    }\n",
       "\n",
       "    .dataframe thead th {\n",
       "        text-align: right;\n",
       "    }\n",
       "</style>\n",
       "<table border=\"1\" class=\"dataframe\">\n",
       "  <thead>\n",
       "    <tr style=\"text-align: right;\">\n",
       "      <th></th>\n",
       "      <th>eventId</th>\n",
       "      <th>timestamp</th>\n",
       "      <th>Session</th>\n",
       "      <th>User</th>\n",
       "      <th>Game</th>\n",
       "      <th>EnemyType</th>\n",
       "    </tr>\n",
       "  </thead>\n",
       "  <tbody>\n",
       "    <tr>\n",
       "      <th>9</th>\n",
       "      <td>1</td>\n",
       "      <td>1713771100059</td>\n",
       "      <td>f5d36ac5-567a-420a-8ab9-07640707324a</td>\n",
       "      <td>9cfa91cf-11a7-42ba-89b1-bff2b3a3c1bc</td>\n",
       "      <td>NaN</td>\n",
       "      <td>NaN</td>\n",
       "    </tr>\n",
       "  </tbody>\n",
       "</table>\n",
       "</div>"
      ],
      "text/plain": [
       "   eventId      timestamp                               Session  \\\n",
       "9        1  1713771100059  f5d36ac5-567a-420a-8ab9-07640707324a   \n",
       "\n",
       "                                   User Game  EnemyType  \n",
       "9  9cfa91cf-11a7-42ba-89b1-bff2b3a3c1bc  NaN        NaN  "
      ]
     },
     "metadata": {},
     "output_type": "display_data"
    },
    {
     "data": {
      "text/html": [
       "<div>\n",
       "<style scoped>\n",
       "    .dataframe tbody tr th:only-of-type {\n",
       "        vertical-align: middle;\n",
       "    }\n",
       "\n",
       "    .dataframe tbody tr th {\n",
       "        vertical-align: top;\n",
       "    }\n",
       "\n",
       "    .dataframe thead th {\n",
       "        text-align: right;\n",
       "    }\n",
       "</style>\n",
       "<table border=\"1\" class=\"dataframe\">\n",
       "  <thead>\n",
       "    <tr style=\"text-align: right;\">\n",
       "      <th></th>\n",
       "      <th>eventId</th>\n",
       "      <th>timestamp</th>\n",
       "      <th>Session</th>\n",
       "      <th>User</th>\n",
       "      <th>Game</th>\n",
       "      <th>EnemyType</th>\n",
       "    </tr>\n",
       "  </thead>\n",
       "  <tbody>\n",
       "    <tr>\n",
       "      <th>1</th>\n",
       "      <td>10</td>\n",
       "      <td>1713771078241</td>\n",
       "      <td>f5d36ac5-567a-420a-8ab9-07640707324a</td>\n",
       "      <td>9cfa91cf-11a7-42ba-89b1-bff2b3a3c1bc</td>\n",
       "      <td>NaN</td>\n",
       "      <td>2.0</td>\n",
       "    </tr>\n",
       "  </tbody>\n",
       "</table>\n",
       "</div>"
      ],
      "text/plain": [
       "   eventId      timestamp                               Session  \\\n",
       "1       10  1713771078241  f5d36ac5-567a-420a-8ab9-07640707324a   \n",
       "\n",
       "                                   User Game  EnemyType  \n",
       "1  9cfa91cf-11a7-42ba-89b1-bff2b3a3c1bc  NaN        2.0  "
      ]
     },
     "metadata": {},
     "output_type": "display_data"
    },
    {
     "data": {
      "text/html": [
       "<div>\n",
       "<style scoped>\n",
       "    .dataframe tbody tr th:only-of-type {\n",
       "        vertical-align: middle;\n",
       "    }\n",
       "\n",
       "    .dataframe tbody tr th {\n",
       "        vertical-align: top;\n",
       "    }\n",
       "\n",
       "    .dataframe thead th {\n",
       "        text-align: right;\n",
       "    }\n",
       "</style>\n",
       "<table border=\"1\" class=\"dataframe\">\n",
       "  <thead>\n",
       "    <tr style=\"text-align: right;\">\n",
       "      <th></th>\n",
       "      <th>eventId</th>\n",
       "      <th>timestamp</th>\n",
       "      <th>Session</th>\n",
       "      <th>User</th>\n",
       "      <th>Game</th>\n",
       "      <th>EnemyType</th>\n",
       "    </tr>\n",
       "  </thead>\n",
       "  <tbody>\n",
       "    <tr>\n",
       "      <th>2</th>\n",
       "      <td>12</td>\n",
       "      <td>1713771085388</td>\n",
       "      <td>f5d36ac5-567a-420a-8ab9-07640707324a</td>\n",
       "      <td>9cfa91cf-11a7-42ba-89b1-bff2b3a3c1bc</td>\n",
       "      <td>NaN</td>\n",
       "      <td>NaN</td>\n",
       "    </tr>\n",
       "    <tr>\n",
       "      <th>3</th>\n",
       "      <td>12</td>\n",
       "      <td>1713771086027</td>\n",
       "      <td>f5d36ac5-567a-420a-8ab9-07640707324a</td>\n",
       "      <td>9cfa91cf-11a7-42ba-89b1-bff2b3a3c1bc</td>\n",
       "      <td>NaN</td>\n",
       "      <td>NaN</td>\n",
       "    </tr>\n",
       "    <tr>\n",
       "      <th>4</th>\n",
       "      <td>12</td>\n",
       "      <td>1713771086914</td>\n",
       "      <td>f5d36ac5-567a-420a-8ab9-07640707324a</td>\n",
       "      <td>9cfa91cf-11a7-42ba-89b1-bff2b3a3c1bc</td>\n",
       "      <td>NaN</td>\n",
       "      <td>NaN</td>\n",
       "    </tr>\n",
       "    <tr>\n",
       "      <th>5</th>\n",
       "      <td>12</td>\n",
       "      <td>1713771088014</td>\n",
       "      <td>f5d36ac5-567a-420a-8ab9-07640707324a</td>\n",
       "      <td>9cfa91cf-11a7-42ba-89b1-bff2b3a3c1bc</td>\n",
       "      <td>NaN</td>\n",
       "      <td>NaN</td>\n",
       "    </tr>\n",
       "    <tr>\n",
       "      <th>6</th>\n",
       "      <td>12</td>\n",
       "      <td>1713771088808</td>\n",
       "      <td>f5d36ac5-567a-420a-8ab9-07640707324a</td>\n",
       "      <td>9cfa91cf-11a7-42ba-89b1-bff2b3a3c1bc</td>\n",
       "      <td>NaN</td>\n",
       "      <td>NaN</td>\n",
       "    </tr>\n",
       "    <tr>\n",
       "      <th>7</th>\n",
       "      <td>12</td>\n",
       "      <td>1713771090301</td>\n",
       "      <td>f5d36ac5-567a-420a-8ab9-07640707324a</td>\n",
       "      <td>9cfa91cf-11a7-42ba-89b1-bff2b3a3c1bc</td>\n",
       "      <td>NaN</td>\n",
       "      <td>NaN</td>\n",
       "    </tr>\n",
       "    <tr>\n",
       "      <th>8</th>\n",
       "      <td>12</td>\n",
       "      <td>1713771092064</td>\n",
       "      <td>f5d36ac5-567a-420a-8ab9-07640707324a</td>\n",
       "      <td>9cfa91cf-11a7-42ba-89b1-bff2b3a3c1bc</td>\n",
       "      <td>NaN</td>\n",
       "      <td>NaN</td>\n",
       "    </tr>\n",
       "  </tbody>\n",
       "</table>\n",
       "</div>"
      ],
      "text/plain": [
       "   eventId      timestamp                               Session  \\\n",
       "2       12  1713771085388  f5d36ac5-567a-420a-8ab9-07640707324a   \n",
       "3       12  1713771086027  f5d36ac5-567a-420a-8ab9-07640707324a   \n",
       "4       12  1713771086914  f5d36ac5-567a-420a-8ab9-07640707324a   \n",
       "5       12  1713771088014  f5d36ac5-567a-420a-8ab9-07640707324a   \n",
       "6       12  1713771088808  f5d36ac5-567a-420a-8ab9-07640707324a   \n",
       "7       12  1713771090301  f5d36ac5-567a-420a-8ab9-07640707324a   \n",
       "8       12  1713771092064  f5d36ac5-567a-420a-8ab9-07640707324a   \n",
       "\n",
       "                                   User Game  EnemyType  \n",
       "2  9cfa91cf-11a7-42ba-89b1-bff2b3a3c1bc  NaN        NaN  \n",
       "3  9cfa91cf-11a7-42ba-89b1-bff2b3a3c1bc  NaN        NaN  \n",
       "4  9cfa91cf-11a7-42ba-89b1-bff2b3a3c1bc  NaN        NaN  \n",
       "5  9cfa91cf-11a7-42ba-89b1-bff2b3a3c1bc  NaN        NaN  \n",
       "6  9cfa91cf-11a7-42ba-89b1-bff2b3a3c1bc  NaN        NaN  \n",
       "7  9cfa91cf-11a7-42ba-89b1-bff2b3a3c1bc  NaN        NaN  \n",
       "8  9cfa91cf-11a7-42ba-89b1-bff2b3a3c1bc  NaN        NaN  "
      ]
     },
     "metadata": {},
     "output_type": "display_data"
    }
   ],
   "source": [
    "x = pd.json_normalize(jsonFile['data'])\n",
    "groupedEvents = x.groupby('eventId')\n",
    "for eid, group in groupedEvents:\n",
    "    display(group)\n",
    "    ##display(eid)"
   ]
  },
  {
   "cell_type": "markdown",
   "id": "539fd117",
   "metadata": {},
   "source": [
    "### Los eventos y sus ID:\n",
    "- SessionStart = 0\n",
    "- SessionStop = 1\n",
    "- GameStart = 2\n",
    "- GameEnd = 3\n",
    "- LevelStart = 4\n",
    "- LevelEnd = 5\n",
    "- Pause = 6\n",
    "- Resume = 7\n",
    "- //\n",
    "- Attack = 8\n",
    "- EnemyReceive = 9\n",
    "- PlayerReceive = 10\n",
    "- PlayerDead = 11\n",
    "- RoomMove = 12\n"
   ]
  },
  {
   "cell_type": "markdown",
   "id": "39209ec4",
   "metadata": {},
   "source": [
    "# Métrica 1: Tiempo de finalización de nivel\n",
    "¿El jugador tarda demasiado tiempo en completar cada uno de los dos niveles?"
   ]
  },
  {
   "cell_type": "code",
   "execution_count": 18,
   "id": "06765533",
   "metadata": {},
   "outputs": [
    {
     "data": {
      "text/html": [
       "<div>\n",
       "<style scoped>\n",
       "    .dataframe tbody tr th:only-of-type {\n",
       "        vertical-align: middle;\n",
       "    }\n",
       "\n",
       "    .dataframe tbody tr th {\n",
       "        vertical-align: top;\n",
       "    }\n",
       "\n",
       "    .dataframe thead th {\n",
       "        text-align: right;\n",
       "    }\n",
       "</style>\n",
       "<table border=\"1\" class=\"dataframe\">\n",
       "  <thead>\n",
       "    <tr style=\"text-align: right;\">\n",
       "      <th></th>\n",
       "      <th>eventId</th>\n",
       "      <th>timestamp</th>\n",
       "      <th>Session</th>\n",
       "      <th>User</th>\n",
       "      <th>Game</th>\n",
       "      <th>EnemyType</th>\n",
       "    </tr>\n",
       "  </thead>\n",
       "  <tbody>\n",
       "    <tr>\n",
       "      <th>0</th>\n",
       "      <td>0</td>\n",
       "      <td>1713770965601</td>\n",
       "      <td>f5d36ac5-567a-420a-8ab9-07640707324a</td>\n",
       "      <td>9cfa91cf-11a7-42ba-89b1-bff2b3a3c1bc</td>\n",
       "      <td>SteamMazehemGame</td>\n",
       "      <td>NaN</td>\n",
       "    </tr>\n",
       "  </tbody>\n",
       "</table>\n",
       "</div>"
      ],
      "text/plain": [
       "   eventId      timestamp                               Session  \\\n",
       "0        0  1713770965601  f5d36ac5-567a-420a-8ab9-07640707324a   \n",
       "\n",
       "                                   User              Game  EnemyType  \n",
       "0  9cfa91cf-11a7-42ba-89b1-bff2b3a3c1bc  SteamMazehemGame        NaN  "
      ]
     },
     "metadata": {},
     "output_type": "display_data"
    },
    {
     "data": {
      "text/html": [
       "<div>\n",
       "<style scoped>\n",
       "    .dataframe tbody tr th:only-of-type {\n",
       "        vertical-align: middle;\n",
       "    }\n",
       "\n",
       "    .dataframe tbody tr th {\n",
       "        vertical-align: top;\n",
       "    }\n",
       "\n",
       "    .dataframe thead th {\n",
       "        text-align: right;\n",
       "    }\n",
       "</style>\n",
       "<table border=\"1\" class=\"dataframe\">\n",
       "  <thead>\n",
       "    <tr style=\"text-align: right;\">\n",
       "      <th></th>\n",
       "      <th>eventId</th>\n",
       "      <th>timestamp</th>\n",
       "      <th>Session</th>\n",
       "      <th>User</th>\n",
       "      <th>Game</th>\n",
       "      <th>EnemyType</th>\n",
       "    </tr>\n",
       "  </thead>\n",
       "  <tbody>\n",
       "    <tr>\n",
       "      <th>9</th>\n",
       "      <td>1</td>\n",
       "      <td>1713771100059</td>\n",
       "      <td>f5d36ac5-567a-420a-8ab9-07640707324a</td>\n",
       "      <td>9cfa91cf-11a7-42ba-89b1-bff2b3a3c1bc</td>\n",
       "      <td>NaN</td>\n",
       "      <td>NaN</td>\n",
       "    </tr>\n",
       "  </tbody>\n",
       "</table>\n",
       "</div>"
      ],
      "text/plain": [
       "   eventId      timestamp                               Session  \\\n",
       "9        1  1713771100059  f5d36ac5-567a-420a-8ab9-07640707324a   \n",
       "\n",
       "                                   User Game  EnemyType  \n",
       "9  9cfa91cf-11a7-42ba-89b1-bff2b3a3c1bc  NaN        NaN  "
      ]
     },
     "metadata": {},
     "output_type": "display_data"
    },
    {
     "name": "stdout",
     "output_type": "stream",
     "text": [
      "TIME: \n",
      "2.2409666657447813  minutos\n",
      "Start time:  2024-04-22 09:29:25.601000\n",
      "End time:  2024-04-22 09:31:40.059000\n"
     ]
    }
   ],
   "source": [
    "from datetime import datetime\n",
    "\n",
    "## estoy usando los de la sesion por ahora, pero se haria con los de cada nivel.\n",
    "startEvent = groupedEvents.get_group(0)\n",
    "display(startEvent)\n",
    "endEvent = groupedEvents.get_group(1)\n",
    "display(endEvent)\n",
    "\n",
    "a = startEvent.get(\"timestamp\").values[0]\n",
    "b = endEvent.get(\"timestamp\").values[0]\n",
    "\n",
    "# Convertir el timestamp de milisegundos a segundos\n",
    "a_seconds = a / 1000\n",
    "b_seconds = b / 1000\n",
    "\n",
    "print(\"TIME: \")\n",
    "print((b_seconds - a_seconds)/60, \" minutos\")\n",
    "\n",
    "# Crear objetos datetime a partir de los timestamps\n",
    "dt_object_start = datetime.fromtimestamp(a_seconds)\n",
    "dt_object_end = datetime.fromtimestamp(b_seconds)\n",
    "\n",
    "# Imprimir los objetos datetime y sus tipos\n",
    "print(\"Start time: \", dt_object_start)\n",
    "print(\"End time: \", dt_object_end)"
   ]
  },
  {
   "cell_type": "markdown",
   "id": "739dff71",
   "metadata": {},
   "source": [
    "# Métrica 2: Cantidad de movimientos por nivel\n",
    "¿El jugador usa demasiados movimientos de salas en cada uno de los dos niveles?"
   ]
  },
  {
   "cell_type": "code",
   "execution_count": 27,
   "id": "144b7885",
   "metadata": {},
   "outputs": [
    {
     "name": "stdout",
     "output_type": "stream",
     "text": [
      "Session movements:\n",
      "\n",
      "                             Session  Movements\n",
      "f5d36ac5-567a-420a-8ab9-07640707324a          7\n"
     ]
    }
   ],
   "source": [
    "# FALTA AGRUPAR POR NIVELES\n",
    "room_moves = groupedEvents.get_group(12)\n",
    "\n",
    "# Se agrupan los movimientos por sesión y se cuenta el número de cada una\n",
    "movements = room_moves.groupby('Session').size().reset_index(name='Movements')\n",
    "\n",
    "print(\"Session movements:\\n\")\n",
    "print(movements.to_string(index=False))"
   ]
  },
  {
   "cell_type": "markdown",
   "id": "5137ce73",
   "metadata": {},
   "source": [
    "# Métrica 3: Precisión de golpes a los enemigos\n",
    "¿El jugador falla significativamente más ataques en el nivel 2 que en el nivel 1?"
   ]
  },
  {
   "cell_type": "markdown",
   "id": "d9a3dc39",
   "metadata": {},
   "source": [
    "# Métrica 4: Impactos de los elementos dañinos\n",
    "¿Es coherente la variación del daño provocado por cada elemento dañino a lo largo de los dos niveles?\n"
   ]
  },
  {
   "cell_type": "code",
   "execution_count": null,
   "id": "88768c33",
   "metadata": {},
   "outputs": [],
   "source": []
  }
 ],
 "metadata": {
  "kernelspec": {
   "display_name": "Python 3 (ipykernel)",
   "language": "python",
   "name": "python3"
  },
  "language_info": {
   "codemirror_mode": {
    "name": "ipython",
    "version": 3
   },
   "file_extension": ".py",
   "mimetype": "text/x-python",
   "name": "python",
   "nbconvert_exporter": "python",
   "pygments_lexer": "ipython3",
   "version": "3.11.4"
  }
 },
 "nbformat": 4,
 "nbformat_minor": 5
}
